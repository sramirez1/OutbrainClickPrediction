{
 "cells": [
  {
   "cell_type": "markdown",
   "metadata": {},
   "source": [
    "#Outbrain Click Prediction \n",
    "The purpose of the Outbrain competition is to predict which recommended content each user will click. Outbrain has provided various relational datasets that need to be explored before any modeling can begin. \n",
    "\n",
    "###Import Libraries"
   ]
  },
  {
   "cell_type": "markdown",
   "metadata": {},
   "source": [
    "###Raw Data "
   ]
  },
  {
   "cell_type": "code",
   "execution_count": 1,
   "metadata": {
    "collapsed": false
   },
   "outputs": [
    {
     "name": "stdout",
     "output_type": "stream",
     "text": [
      "Files To Explore:\n",
      "clicks_test.csv               506.95 MB\n",
      "clicks_train.csv              1486.73 MB\n",
      "documents_categories.csv      118.02 MB\n",
      "documents_entities.csv        324.1 MB\n",
      "documents_meta.csv            89.38 MB\n",
      "documents_topics.csv          339.47 MB\n",
      "events.csv                    1208.55 MB\n",
      "page_views_sample.csv         454.35 MB\n",
      "promoted_content.csv          13.89 MB\n",
      "sample_submission.csv         273.14 MB\n"
     ]
    }
   ],
   "source": [
    "import pandas as pd\n",
    "import numpy as np\n",
    "import os\n",
    "import gc\n",
    "import sys\n",
    "import sqlite3 as sql\n",
    "import matplotlib.pyplot as plt\n",
    "from subprocess import check_output\n",
    "\n",
    "%matplotlib inline\n",
    "\n",
    "print('Files To Explore:')\n",
    "for f in os.listdir('inputs/'):\n",
    "    if 'csv' in f:\n",
    "        print(f.ljust(30) + str(round(os.path.getsize('inputs/' + f)/1000000.0, 2)) + \" MB\")"
   ]
  },
  {
   "cell_type": "markdown",
   "metadata": {},
   "source": [
    "####What are the dimensions of each dataset?"
   ]
  },
  {
   "cell_type": "code",
   "execution_count": 35,
   "metadata": {
    "collapsed": false
   },
   "outputs": [
    {
     "name": "stdout",
     "output_type": "stream",
     "text": [
      "File Dimensions:\n",
      "clicks_test.csv               (32225163,2)\n",
      "clicks_train.csv              (87141732,3)\n",
      "documents_categories.csv      (5481476,3)\n",
      "documents_entities.csv        (5537553,3)\n",
      "documents_meta.csv            (2999335,4)\n",
      "documents_topics.csv          (11325961,3)\n",
      "events.csv                    (23120127,6)\n",
      "page_views_sample.csv         (10000000,6)\n",
      "promoted_content.csv          (559584,4)\n",
      "sample_submission.csv         (6245534,2)\n"
     ]
    }
   ],
   "source": [
    "def file_len(fname):\n",
    "    p = subprocess.Popen(['wc', '-l', fname], stdout=subprocess.PIPE, \n",
    "                                              stderr=subprocess.PIPE)\n",
    "    result, err = p.communicate()\n",
    "    if p.returncode != 0:\n",
    "        raise IOError(err)\n",
    "    return int(result.strip().split()[0])\n",
    "\n",
    "print('File Dimensions:')\n",
    "for f in os.listdir('inputs/'):\n",
    "    if 'csv' in f:\n",
    "        rows=file_len('inputs/'+f)\n",
    "        doc=pd.read_csv('inputs/'+f, nrows=1)\n",
    "        print(f.ljust(30) + '('+str(rows)+','+str(len(doc.columns))+')')\n",
    "        \n"
   ]
  },
  {
   "cell_type": "markdown",
   "metadata": {},
   "source": [
    " ####Are there any common variables?"
   ]
  },
  {
   "cell_type": "code",
   "execution_count": 42,
   "metadata": {
    "collapsed": false
   },
   "outputs": [
    {
     "name": "stdout",
     "output_type": "stream",
     "text": [
      "File Columns:\n",
      "clicks_test.csv               ['display_id', 'ad_id']\n",
      "clicks_train.csv              ['display_id', 'ad_id', 'clicked']\n",
      "documents_categories.csv      ['document_id', 'category_id', 'confidence_level']\n",
      "documents_entities.csv        ['document_id', 'entity_id', 'confidence_level']\n",
      "documents_meta.csv            ['document_id', 'source_id', 'publisher_id', 'publish_time']\n",
      "documents_topics.csv          ['document_id', 'topic_id', 'confidence_level']\n",
      "events.csv                    ['display_id', 'uuid', 'document_id', 'timestamp', 'platform', 'geo_location']\n",
      "page_views_sample.csv         ['uuid', 'document_id', 'timestamp', 'platform', 'geo_location', 'traffic_source']\n",
      "promoted_content.csv          ['ad_id', 'document_id', 'campaign_id', 'advertiser_id']\n",
      "sample_submission.csv         ['display_id', 'ad_id']\n"
     ]
    }
   ],
   "source": [
    "print('File Column Names:')\n",
    "for f in os.listdir('inputs/'):\n",
    "    if 'csv' in f:\n",
    "        doc=pd.read_csv('inputs/'+f, nrows=1)\n",
    "        print(f.ljust(30) + str(list(doc.columns.values)))\n",
    "        "
   ]
  },
  {
   "cell_type": "markdown",
   "metadata": {},
   "source": [
    "Based on the investigation below, I think the next steps are to merge **clicks_train** with **events** on *display_id*. From here we will have information on a particular user, *uuid* and the corresponding *ad_id* they clicked. We also have the corresponding *document_id*. (Just to make sure there isn't any weird merging going on, I would check that the *ad_id* to *document_id* xwlk that emerges from that new dataset matches what we find in the **promoted_content** dataset.) \n",
    "\n",
    "Once this dataset looks clean, we can merge on the document related information -- **documents_meta**, **documents_entities**, **documents_topics**, etc.).\n",
    "\n",
    "The big question is still how to incorporate **page_views** dataset??\n"
   ]
  },
  {
   "cell_type": "markdown",
   "metadata": {},
   "source": [
    "###Review *Page View* Sample\n",
    "\n",
    "**Page_views** gives us a log of all the users that visited each website within the recorded timeframe, 14-June-2016 to 28-June-2016.\n"
   ]
  },
  {
   "cell_type": "code",
   "execution_count": 4,
   "metadata": {
    "collapsed": true
   },
   "outputs": [],
   "source": [
    "pg_views=pd.read_csv('inputs/page_views_sample.csv')"
   ]
  },
  {
   "cell_type": "code",
   "execution_count": 49,
   "metadata": {
    "collapsed": false,
    "scrolled": true
   },
   "outputs": [
    {
     "data": {
      "text/html": [
       "<div>\n",
       "<table border=\"1\" class=\"dataframe\">\n",
       "  <thead>\n",
       "    <tr style=\"text-align: right;\">\n",
       "      <th></th>\n",
       "      <th>uuid</th>\n",
       "      <th>document_id</th>\n",
       "      <th>timestamp</th>\n",
       "      <th>platform</th>\n",
       "      <th>geo_location</th>\n",
       "      <th>traffic_source</th>\n",
       "    </tr>\n",
       "  </thead>\n",
       "  <tbody>\n",
       "    <tr>\n",
       "      <th>0</th>\n",
       "      <td>1fd5f051fba643</td>\n",
       "      <td>120</td>\n",
       "      <td>31905835</td>\n",
       "      <td>1</td>\n",
       "      <td>RS</td>\n",
       "      <td>2</td>\n",
       "    </tr>\n",
       "    <tr>\n",
       "      <th>1</th>\n",
       "      <td>8557aa9004be3b</td>\n",
       "      <td>120</td>\n",
       "      <td>32053104</td>\n",
       "      <td>1</td>\n",
       "      <td>VN&gt;44</td>\n",
       "      <td>2</td>\n",
       "    </tr>\n",
       "    <tr>\n",
       "      <th>2</th>\n",
       "      <td>c351b277a358f0</td>\n",
       "      <td>120</td>\n",
       "      <td>54013023</td>\n",
       "      <td>1</td>\n",
       "      <td>KR&gt;12</td>\n",
       "      <td>1</td>\n",
       "    </tr>\n",
       "    <tr>\n",
       "      <th>3</th>\n",
       "      <td>8205775c5387f9</td>\n",
       "      <td>120</td>\n",
       "      <td>44196592</td>\n",
       "      <td>1</td>\n",
       "      <td>IN&gt;16</td>\n",
       "      <td>2</td>\n",
       "    </tr>\n",
       "    <tr>\n",
       "      <th>4</th>\n",
       "      <td>9cb0ccd8458371</td>\n",
       "      <td>120</td>\n",
       "      <td>65817371</td>\n",
       "      <td>1</td>\n",
       "      <td>US&gt;CA&gt;807</td>\n",
       "      <td>2</td>\n",
       "    </tr>\n",
       "  </tbody>\n",
       "</table>\n",
       "</div>"
      ],
      "text/plain": [
       "             uuid  document_id  timestamp  platform geo_location  \\\n",
       "0  1fd5f051fba643          120   31905835         1           RS   \n",
       "1  8557aa9004be3b          120   32053104         1        VN>44   \n",
       "2  c351b277a358f0          120   54013023         1        KR>12   \n",
       "3  8205775c5387f9          120   44196592         1        IN>16   \n",
       "4  9cb0ccd8458371          120   65817371         1    US>CA>807   \n",
       "\n",
       "   traffic_source  \n",
       "0               2  \n",
       "1               2  \n",
       "2               1  \n",
       "3               2  \n",
       "4               2  "
      ]
     },
     "execution_count": 49,
     "metadata": {},
     "output_type": "execute_result"
    }
   ],
   "source": [
    "pg_views.head()"
   ]
  },
  {
   "cell_type": "code",
   "execution_count": 17,
   "metadata": {
    "collapsed": false
   },
   "outputs": [
    {
     "data": {
      "text/plain": [
       "<matplotlib.axes._subplots.AxesSubplot at 0x102bd79d0>"
      ]
     },
     "execution_count": 17,
     "metadata": {},
     "output_type": "execute_result"
    },
    {
     "data": {
      "image/png": "[encoded data removed]",
      "text/plain": [
       "<matplotlib.figure.Figure at 0x106ebff90>"
      ]
     },
     "metadata": {},
     "output_type": "display_data"
    }
   ],
   "source": [
    "pg_view_by_traffic_source=pg_views.traffic_source.value_counts()\n",
    "pg_view_by_traffic_source\n",
    "pg_view_by_traffic_source.plot.pie(y='count', figsize=(6, 6), labels=['Internal (1)', 'Search (2)', 'Social (3)'], \n",
    "              title='Page Views by Traffic Source', autopct='%.2f', fontsize=15)"
   ]
  },
  {
   "cell_type": "code",
   "execution_count": 18,
   "metadata": {
    "collapsed": false
   },
   "outputs": [
    {
     "name": "stdout",
     "output_type": "stream",
     "text": [
      "CPU times: user 260 ms, sys: 70.6 ms, total: 330 ms\n",
      "Wall time: 334 ms\n"
     ]
    }
   ],
   "source": [
    "%time promoted_content=pd.read_csv('inputs/promoted_content.csv')"
   ]
  },
  {
   "cell_type": "code",
   "execution_count": 41,
   "metadata": {
    "collapsed": false
   },
   "outputs": [
    {
     "data": {
      "text/html": [
       "<div>\n",
       "<table border=\"1\" class=\"dataframe\">\n",
       "  <thead>\n",
       "    <tr style=\"text-align: right;\">\n",
       "      <th></th>\n",
       "      <th>ad_id</th>\n",
       "      <th>document_id</th>\n",
       "      <th>campaign_id</th>\n",
       "      <th>advertiser_id</th>\n",
       "    </tr>\n",
       "  </thead>\n",
       "  <tbody>\n",
       "    <tr>\n",
       "      <th>369245</th>\n",
       "      <td>371657</td>\n",
       "      <td>1</td>\n",
       "      <td>6050</td>\n",
       "      <td>1531</td>\n",
       "    </tr>\n",
       "    <tr>\n",
       "      <th>369336</th>\n",
       "      <td>371749</td>\n",
       "      <td>1</td>\n",
       "      <td>6051</td>\n",
       "      <td>1531</td>\n",
       "    </tr>\n",
       "    <tr>\n",
       "      <th>276883</th>\n",
       "      <td>278853</td>\n",
       "      <td>1305</td>\n",
       "      <td>1960</td>\n",
       "      <td>45</td>\n",
       "    </tr>\n",
       "    <tr>\n",
       "      <th>467810</th>\n",
       "      <td>470614</td>\n",
       "      <td>1418</td>\n",
       "      <td>16993</td>\n",
       "      <td>1310</td>\n",
       "    </tr>\n",
       "    <tr>\n",
       "      <th>497766</th>\n",
       "      <td>500762</td>\n",
       "      <td>1443</td>\n",
       "      <td>16993</td>\n",
       "      <td>1310</td>\n",
       "    </tr>\n",
       "  </tbody>\n",
       "</table>\n",
       "</div>"
      ],
      "text/plain": [
       "         ad_id  document_id  campaign_id  advertiser_id\n",
       "369245  371657            1         6050           1531\n",
       "369336  371749            1         6051           1531\n",
       "276883  278853         1305         1960             45\n",
       "467810  470614         1418        16993           1310\n",
       "497766  500762         1443        16993           1310"
      ]
     },
     "execution_count": 41,
     "metadata": {},
     "output_type": "execute_result"
    }
   ],
   "source": [
    "promoted_content=promoted_content.sort_values(['document_id'])\n",
    "promoted_content.head()\n"
   ]
  },
  {
   "cell_type": "code",
   "execution_count": null,
   "metadata": {
    "collapsed": true
   },
   "outputs": [],
   "source": []
  },
  {
   "cell_type": "markdown",
   "metadata": {},
   "source": [
    "###Review *Clicks* Data"
   ]
  },
  {
   "cell_type": "code",
   "execution_count": 65,
   "metadata": {
    "collapsed": false
   },
   "outputs": [
    {
     "name": "stdout",
     "output_type": "stream",
     "text": [
      "Train Shape:(87141731, 3)\n"
     ]
    },
    {
     "data": {
      "text/html": [
       "<div>\n",
       "<table border=\"1\" class=\"dataframe\">\n",
       "  <thead>\n",
       "    <tr style=\"text-align: right;\">\n",
       "      <th></th>\n",
       "      <th>display_id</th>\n",
       "      <th>ad_id</th>\n",
       "      <th>clicked</th>\n",
       "    </tr>\n",
       "  </thead>\n",
       "  <tbody>\n",
       "    <tr>\n",
       "      <th>0</th>\n",
       "      <td>1</td>\n",
       "      <td>42337</td>\n",
       "      <td>0</td>\n",
       "    </tr>\n",
       "    <tr>\n",
       "      <th>1</th>\n",
       "      <td>1</td>\n",
       "      <td>139684</td>\n",
       "      <td>0</td>\n",
       "    </tr>\n",
       "    <tr>\n",
       "      <th>2</th>\n",
       "      <td>1</td>\n",
       "      <td>144739</td>\n",
       "      <td>1</td>\n",
       "    </tr>\n",
       "    <tr>\n",
       "      <th>3</th>\n",
       "      <td>1</td>\n",
       "      <td>156824</td>\n",
       "      <td>0</td>\n",
       "    </tr>\n",
       "    <tr>\n",
       "      <th>4</th>\n",
       "      <td>1</td>\n",
       "      <td>279295</td>\n",
       "      <td>0</td>\n",
       "    </tr>\n",
       "    <tr>\n",
       "      <th>5</th>\n",
       "      <td>1</td>\n",
       "      <td>296965</td>\n",
       "      <td>0</td>\n",
       "    </tr>\n",
       "    <tr>\n",
       "      <th>6</th>\n",
       "      <td>2</td>\n",
       "      <td>125211</td>\n",
       "      <td>0</td>\n",
       "    </tr>\n",
       "    <tr>\n",
       "      <th>7</th>\n",
       "      <td>2</td>\n",
       "      <td>156535</td>\n",
       "      <td>0</td>\n",
       "    </tr>\n",
       "    <tr>\n",
       "      <th>8</th>\n",
       "      <td>2</td>\n",
       "      <td>169564</td>\n",
       "      <td>0</td>\n",
       "    </tr>\n",
       "    <tr>\n",
       "      <th>9</th>\n",
       "      <td>2</td>\n",
       "      <td>308455</td>\n",
       "      <td>1</td>\n",
       "    </tr>\n",
       "    <tr>\n",
       "      <th>10</th>\n",
       "      <td>3</td>\n",
       "      <td>71547</td>\n",
       "      <td>0</td>\n",
       "    </tr>\n",
       "    <tr>\n",
       "      <th>11</th>\n",
       "      <td>3</td>\n",
       "      <td>95814</td>\n",
       "      <td>0</td>\n",
       "    </tr>\n",
       "    <tr>\n",
       "      <th>12</th>\n",
       "      <td>3</td>\n",
       "      <td>152141</td>\n",
       "      <td>0</td>\n",
       "    </tr>\n",
       "    <tr>\n",
       "      <th>13</th>\n",
       "      <td>3</td>\n",
       "      <td>183846</td>\n",
       "      <td>0</td>\n",
       "    </tr>\n",
       "    <tr>\n",
       "      <th>14</th>\n",
       "      <td>3</td>\n",
       "      <td>228657</td>\n",
       "      <td>1</td>\n",
       "    </tr>\n",
       "    <tr>\n",
       "      <th>15</th>\n",
       "      <td>3</td>\n",
       "      <td>250082</td>\n",
       "      <td>0</td>\n",
       "    </tr>\n",
       "    <tr>\n",
       "      <th>16</th>\n",
       "      <td>4</td>\n",
       "      <td>149930</td>\n",
       "      <td>0</td>\n",
       "    </tr>\n",
       "    <tr>\n",
       "      <th>17</th>\n",
       "      <td>4</td>\n",
       "      <td>153623</td>\n",
       "      <td>1</td>\n",
       "    </tr>\n",
       "    <tr>\n",
       "      <th>18</th>\n",
       "      <td>4</td>\n",
       "      <td>184709</td>\n",
       "      <td>0</td>\n",
       "    </tr>\n",
       "    <tr>\n",
       "      <th>19</th>\n",
       "      <td>4</td>\n",
       "      <td>186849</td>\n",
       "      <td>0</td>\n",
       "    </tr>\n",
       "    <tr>\n",
       "      <th>20</th>\n",
       "      <td>4</td>\n",
       "      <td>233730</td>\n",
       "      <td>0</td>\n",
       "    </tr>\n",
       "    <tr>\n",
       "      <th>21</th>\n",
       "      <td>5</td>\n",
       "      <td>54606</td>\n",
       "      <td>0</td>\n",
       "    </tr>\n",
       "    <tr>\n",
       "      <th>22</th>\n",
       "      <td>5</td>\n",
       "      <td>162868</td>\n",
       "      <td>0</td>\n",
       "    </tr>\n",
       "    <tr>\n",
       "      <th>23</th>\n",
       "      <td>5</td>\n",
       "      <td>184548</td>\n",
       "      <td>0</td>\n",
       "    </tr>\n",
       "    <tr>\n",
       "      <th>24</th>\n",
       "      <td>5</td>\n",
       "      <td>282674</td>\n",
       "      <td>0</td>\n",
       "    </tr>\n",
       "  </tbody>\n",
       "</table>\n",
       "</div>"
      ],
      "text/plain": [
       "    display_id   ad_id  clicked\n",
       "0            1   42337        0\n",
       "1            1  139684        0\n",
       "2            1  144739        1\n",
       "3            1  156824        0\n",
       "4            1  279295        0\n",
       "5            1  296965        0\n",
       "6            2  125211        0\n",
       "7            2  156535        0\n",
       "8            2  169564        0\n",
       "9            2  308455        1\n",
       "10           3   71547        0\n",
       "11           3   95814        0\n",
       "12           3  152141        0\n",
       "13           3  183846        0\n",
       "14           3  228657        1\n",
       "15           3  250082        0\n",
       "16           4  149930        0\n",
       "17           4  153623        1\n",
       "18           4  184709        0\n",
       "19           4  186849        0\n",
       "20           4  233730        0\n",
       "21           5   54606        0\n",
       "22           5  162868        0\n",
       "23           5  184548        0\n",
       "24           5  282674        0"
      ]
     },
     "execution_count": 65,
     "metadata": {},
     "output_type": "execute_result"
    }
   ],
   "source": [
    "train=pd.read_csv('inputs/clicks_train.csv')\n",
    "print('Train Shape:' + str(train.shape))\n",
    "train.head(25)"
   ]
  },
  {
   "cell_type": "code",
   "execution_count": 78,
   "metadata": {
    "collapsed": false
   },
   "outputs": [
    {
     "name": "stdout",
     "output_type": "stream",
     "text": [
      "Test Shape:(32225162, 2)\n"
     ]
    },
    {
     "data": {
      "text/html": [
       "<div>\n",
       "<table border=\"1\" class=\"dataframe\">\n",
       "  <thead>\n",
       "    <tr style=\"text-align: right;\">\n",
       "      <th></th>\n",
       "      <th>display_id</th>\n",
       "      <th>ad_id</th>\n",
       "    </tr>\n",
       "  </thead>\n",
       "  <tbody>\n",
       "    <tr>\n",
       "      <th>0</th>\n",
       "      <td>16874594</td>\n",
       "      <td>66758</td>\n",
       "    </tr>\n",
       "    <tr>\n",
       "      <th>1</th>\n",
       "      <td>16874594</td>\n",
       "      <td>150083</td>\n",
       "    </tr>\n",
       "    <tr>\n",
       "      <th>2</th>\n",
       "      <td>16874594</td>\n",
       "      <td>162754</td>\n",
       "    </tr>\n",
       "    <tr>\n",
       "      <th>3</th>\n",
       "      <td>16874594</td>\n",
       "      <td>170392</td>\n",
       "    </tr>\n",
       "    <tr>\n",
       "      <th>4</th>\n",
       "      <td>16874594</td>\n",
       "      <td>172888</td>\n",
       "    </tr>\n",
       "  </tbody>\n",
       "</table>\n",
       "</div>"
      ],
      "text/plain": [
       "   display_id   ad_id\n",
       "0    16874594   66758\n",
       "1    16874594  150083\n",
       "2    16874594  162754\n",
       "3    16874594  170392\n",
       "4    16874594  172888"
      ]
     },
     "execution_count": 78,
     "metadata": {},
     "output_type": "execute_result"
    }
   ],
   "source": [
    "print('Test Shape:'+str(test.shape))\n",
    "test.head()"
   ]
  },
  {
   "cell_type": "markdown",
   "metadata": {},
   "source": [
    "###Review *Documents* Data"
   ]
  },
  {
   "cell_type": "code",
   "execution_count": 43,
   "metadata": {
    "collapsed": false
   },
   "outputs": [],
   "source": [
    "doc_cat=pd.read_csv('inputs/documents_categories.csv')\n",
    "doc_ent=pd.read_csv('inputs/documents_entities.csv')\n",
    "doc_meta=pd.read_csv('inputs/documents_topics.csv')"
   ]
  },
  {
   "cell_type": "code",
   "execution_count": 44,
   "metadata": {
    "collapsed": false
   },
   "outputs": [
    {
     "data": {
      "text/html": [
       "<div>\n",
       "<table border=\"1\" class=\"dataframe\">\n",
       "  <thead>\n",
       "    <tr style=\"text-align: right;\">\n",
       "      <th></th>\n",
       "      <th>document_id</th>\n",
       "      <th>category_id</th>\n",
       "      <th>confidence_level</th>\n",
       "    </tr>\n",
       "  </thead>\n",
       "  <tbody>\n",
       "    <tr>\n",
       "      <th>2352305</th>\n",
       "      <td>1</td>\n",
       "      <td>1706</td>\n",
       "      <td>0.471220</td>\n",
       "    </tr>\n",
       "    <tr>\n",
       "      <th>2352306</th>\n",
       "      <td>1</td>\n",
       "      <td>1603</td>\n",
       "      <td>0.035854</td>\n",
       "    </tr>\n",
       "    <tr>\n",
       "      <th>366940</th>\n",
       "      <td>2</td>\n",
       "      <td>1705</td>\n",
       "      <td>0.600000</td>\n",
       "    </tr>\n",
       "    <tr>\n",
       "      <th>366941</th>\n",
       "      <td>2</td>\n",
       "      <td>1708</td>\n",
       "      <td>0.400000</td>\n",
       "    </tr>\n",
       "    <tr>\n",
       "      <th>52239</th>\n",
       "      <td>3</td>\n",
       "      <td>2003</td>\n",
       "      <td>0.522837</td>\n",
       "    </tr>\n",
       "  </tbody>\n",
       "</table>\n",
       "</div>"
      ],
      "text/plain": [
       "         document_id  category_id  confidence_level\n",
       "2352305            1         1706          0.471220\n",
       "2352306            1         1603          0.035854\n",
       "366940             2         1705          0.600000\n",
       "366941             2         1708          0.400000\n",
       "52239              3         2003          0.522837"
      ]
     },
     "execution_count": 44,
     "metadata": {},
     "output_type": "execute_result"
    }
   ],
   "source": [
    "doc_cat.sort_values(['document_id']).head()"
   ]
  },
  {
   "cell_type": "code",
   "execution_count": 56,
   "metadata": {
    "collapsed": false,
    "scrolled": true
   },
   "outputs": [
    {
     "data": {
      "text/html": [
       "<div>\n",
       "<table border=\"1\" class=\"dataframe\">\n",
       "  <thead>\n",
       "    <tr style=\"text-align: right;\">\n",
       "      <th></th>\n",
       "      <th>document_id</th>\n",
       "      <th>entity_id</th>\n",
       "      <th>confidence_level</th>\n",
       "    </tr>\n",
       "  </thead>\n",
       "  <tbody>\n",
       "    <tr>\n",
       "      <th>2397974</th>\n",
       "      <td>1</td>\n",
       "      <td>f065e2b0f640b2ffa1f5f8cbf110dcbf</td>\n",
       "      <td>0.481631</td>\n",
       "    </tr>\n",
       "    <tr>\n",
       "      <th>502355</th>\n",
       "      <td>2</td>\n",
       "      <td>e88e4cde6c6482ff01d4ad424904ffd1</td>\n",
       "      <td>0.653912</td>\n",
       "    </tr>\n",
       "    <tr>\n",
       "      <th>502356</th>\n",
       "      <td>2</td>\n",
       "      <td>a10e6138ae70ab0054246d4a6b1bb5ac</td>\n",
       "      <td>0.539136</td>\n",
       "    </tr>\n",
       "    <tr>\n",
       "      <th>72833</th>\n",
       "      <td>3</td>\n",
       "      <td>7f77b6d24f62a1ad1b469fdf4bc0a7f4</td>\n",
       "      <td>0.320940</td>\n",
       "    </tr>\n",
       "    <tr>\n",
       "      <th>2626850</th>\n",
       "      <td>4</td>\n",
       "      <td>edd8b2032ce96ab2bbe6cf8aca90727b</td>\n",
       "      <td>0.744933</td>\n",
       "    </tr>\n",
       "  </tbody>\n",
       "</table>\n",
       "</div>"
      ],
      "text/plain": [
       "         document_id                         entity_id  confidence_level\n",
       "2397974            1  f065e2b0f640b2ffa1f5f8cbf110dcbf          0.481631\n",
       "502355             2  e88e4cde6c6482ff01d4ad424904ffd1          0.653912\n",
       "502356             2  a10e6138ae70ab0054246d4a6b1bb5ac          0.539136\n",
       "72833              3  7f77b6d24f62a1ad1b469fdf4bc0a7f4          0.320940\n",
       "2626850            4  edd8b2032ce96ab2bbe6cf8aca90727b          0.744933"
      ]
     },
     "execution_count": 56,
     "metadata": {},
     "output_type": "execute_result"
    }
   ],
   "source": [
    "doc_ent.sort_values(['document_id']).head()"
   ]
  },
  {
   "cell_type": "code",
   "execution_count": 57,
   "metadata": {
    "collapsed": false
   },
   "outputs": [
    {
     "data": {
      "text/html": [
       "<div>\n",
       "<table border=\"1\" class=\"dataframe\">\n",
       "  <thead>\n",
       "    <tr style=\"text-align: right;\">\n",
       "      <th></th>\n",
       "      <th>document_id</th>\n",
       "      <th>topic_id</th>\n",
       "      <th>confidence_level</th>\n",
       "    </tr>\n",
       "  </thead>\n",
       "  <tbody>\n",
       "    <tr>\n",
       "      <th>4504009</th>\n",
       "      <td>1</td>\n",
       "      <td>137</td>\n",
       "      <td>0.009344</td>\n",
       "    </tr>\n",
       "    <tr>\n",
       "      <th>4504008</th>\n",
       "      <td>1</td>\n",
       "      <td>276</td>\n",
       "      <td>0.010160</td>\n",
       "    </tr>\n",
       "    <tr>\n",
       "      <th>4504007</th>\n",
       "      <td>1</td>\n",
       "      <td>150</td>\n",
       "      <td>0.011959</td>\n",
       "    </tr>\n",
       "    <tr>\n",
       "      <th>4504006</th>\n",
       "      <td>1</td>\n",
       "      <td>35</td>\n",
       "      <td>0.012773</td>\n",
       "    </tr>\n",
       "    <tr>\n",
       "      <th>4504005</th>\n",
       "      <td>1</td>\n",
       "      <td>252</td>\n",
       "      <td>0.020726</td>\n",
       "    </tr>\n",
       "  </tbody>\n",
       "</table>\n",
       "</div>"
      ],
      "text/plain": [
       "         document_id  topic_id  confidence_level\n",
       "4504009            1       137          0.009344\n",
       "4504008            1       276          0.010160\n",
       "4504007            1       150          0.011959\n",
       "4504006            1        35          0.012773\n",
       "4504005            1       252          0.020726"
      ]
     },
     "execution_count": 57,
     "metadata": {},
     "output_type": "execute_result"
    }
   ],
   "source": [
    "doc_meta.sort_values(['document_id']).head()"
   ]
  },
  {
   "cell_type": "markdown",
   "metadata": {},
   "source": [
    "###Review *Events* Data\n",
    "\n",
    "**Events** data provides information on the *display_id* variable. Investigations below suggest that *display_id* is unique in the **events** dataset."
   ]
  },
  {
   "cell_type": "code",
   "execution_count": 64,
   "metadata": {
    "collapsed": false
   },
   "outputs": [],
   "source": [
    "events=pd.read_csv('inputs/events.csv')\n"
   ]
  },
  {
   "cell_type": "code",
   "execution_count": 66,
   "metadata": {
    "collapsed": false
   },
   "outputs": [
    {
     "data": {
      "text/html": [
       "<div>\n",
       "<table border=\"1\" class=\"dataframe\">\n",
       "  <thead>\n",
       "    <tr style=\"text-align: right;\">\n",
       "      <th></th>\n",
       "      <th>display_id</th>\n",
       "      <th>uuid</th>\n",
       "      <th>document_id</th>\n",
       "      <th>timestamp</th>\n",
       "      <th>platform</th>\n",
       "      <th>geo_location</th>\n",
       "    </tr>\n",
       "  </thead>\n",
       "  <tbody>\n",
       "    <tr>\n",
       "      <th>0</th>\n",
       "      <td>1</td>\n",
       "      <td>cb8c55702adb93</td>\n",
       "      <td>379743</td>\n",
       "      <td>61</td>\n",
       "      <td>3</td>\n",
       "      <td>US&gt;SC&gt;519</td>\n",
       "    </tr>\n",
       "    <tr>\n",
       "      <th>1</th>\n",
       "      <td>2</td>\n",
       "      <td>79a85fa78311b9</td>\n",
       "      <td>1794259</td>\n",
       "      <td>81</td>\n",
       "      <td>2</td>\n",
       "      <td>US&gt;CA&gt;807</td>\n",
       "    </tr>\n",
       "    <tr>\n",
       "      <th>2</th>\n",
       "      <td>3</td>\n",
       "      <td>822932ce3d8757</td>\n",
       "      <td>1179111</td>\n",
       "      <td>182</td>\n",
       "      <td>2</td>\n",
       "      <td>US&gt;MI&gt;505</td>\n",
       "    </tr>\n",
       "    <tr>\n",
       "      <th>3</th>\n",
       "      <td>4</td>\n",
       "      <td>85281d0a49f7ac</td>\n",
       "      <td>1777797</td>\n",
       "      <td>234</td>\n",
       "      <td>2</td>\n",
       "      <td>US&gt;WV&gt;564</td>\n",
       "    </tr>\n",
       "    <tr>\n",
       "      <th>4</th>\n",
       "      <td>5</td>\n",
       "      <td>8d0daef4bf5b56</td>\n",
       "      <td>252458</td>\n",
       "      <td>338</td>\n",
       "      <td>2</td>\n",
       "      <td>SG&gt;00</td>\n",
       "    </tr>\n",
       "  </tbody>\n",
       "</table>\n",
       "</div>"
      ],
      "text/plain": [
       "   display_id            uuid  document_id  timestamp platform geo_location\n",
       "0           1  cb8c55702adb93       379743         61        3    US>SC>519\n",
       "1           2  79a85fa78311b9      1794259         81        2    US>CA>807\n",
       "2           3  822932ce3d8757      1179111        182        2    US>MI>505\n",
       "3           4  85281d0a49f7ac      1777797        234        2    US>WV>564\n",
       "4           5  8d0daef4bf5b56       252458        338        2        SG>00"
      ]
     },
     "execution_count": 66,
     "metadata": {},
     "output_type": "execute_result"
    }
   ],
   "source": [
    "events.sort_values(['display_id']).head()"
   ]
  },
  {
   "cell_type": "code",
   "execution_count": 68,
   "metadata": {
    "collapsed": false
   },
   "outputs": [
    {
     "data": {
      "text/plain": [
       "20977661    1\n",
       "20994037    1\n",
       "16801780    1\n",
       "12609523    1\n",
       "8417266     1\n",
       "8450018     1\n",
       "4225009     1\n",
       "21010413    1\n",
       "16818156    1\n",
       "16376       1\n",
       "12625899    1\n",
       "4241385     1\n",
       "49128       1\n",
       "21026789    1\n",
       "16834532    1\n",
       "32752       1\n",
       "8630154     1\n",
       "16900036    1\n",
       "8515522     1\n",
       "8433642     1\n",
       "12773283    1\n",
       "4208633     1\n",
       "12593147    1\n",
       "4274137     1\n",
       "81880       1\n",
       "21059541    1\n",
       "16867284    1\n",
       "65504       1\n",
       "12675027    1\n",
       "4290513     1\n",
       "           ..\n",
       "4261921     1\n",
       "65568       1\n",
       "8474666     1\n",
       "12818547    1\n",
       "17014900    1\n",
       "21047333    1\n",
       "16883764    1\n",
       "21080117    1\n",
       "21030941    1\n",
       "21014549    1\n",
       "16818196    1\n",
       "12621843    1\n",
       "8425490     1\n",
       "4229137     1\n",
       "32784       1\n",
       "8441882     1\n",
       "20998157    1\n",
       "12605451    1\n",
       "8409098     1\n",
       "4212745     1\n",
       "16392       1\n",
       "20981765    1\n",
       "16785412    1\n",
       "12589059    1\n",
       "8392706     1\n",
       "16801804    1\n",
       "4311097     1\n",
       "12638235    1\n",
       "967128      1\n",
       "4196353     1\n",
       "Name: display_id, dtype: int64"
      ]
     },
     "execution_count": 68,
     "metadata": {},
     "output_type": "execute_result"
    }
   ],
   "source": [
    "events.display_id.value_counts().sort_values()"
   ]
  },
  {
   "cell_type": "code",
   "execution_count": 63,
   "metadata": {
    "collapsed": false
   },
   "outputs": [],
   "source": [
    "try:del doc_cat\n",
    "except:pass;gc.collect()\n"
   ]
  },
  {
   "cell_type": "code",
   "execution_count": null,
   "metadata": {
    "collapsed": true
   },
   "outputs": [],
   "source": []
  }
 ],
 "metadata": {
  "kernelspec": {
   "display_name": "Python 2",
   "language": "python",
   "name": "python2"
  },
  "language_info": {
   "codemirror_mode": {
    "name": "ipython",
    "version": 2
   },
   "file_extension": ".py",
   "mimetype": "text/x-python",
   "name": "python",
   "nbconvert_exporter": "python",
   "pygments_lexer": "ipython2",
   "version": "2.7.10"
  }
 },
 "nbformat": 4,
 "nbformat_minor": 0
}
